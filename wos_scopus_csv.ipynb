{
 "cells": [
  {
   "cell_type": "code",
   "execution_count": 1,
   "id": "c545c1a4-97a8-4f96-bbd1-5713edf2421d",
   "metadata": {},
   "outputs": [],
   "source": [
    "#Session 1: Convert RIS to CSV"
   ]
  },
  {
   "cell_type": "code",
   "execution_count": null,
   "id": "7b28051f-6edd-4cf8-9bee-662f40aaf9bb",
   "metadata": {},
   "outputs": [],
   "source": [
    "import pandas as pd\n",
    "\n",
    "def ris_to_dataframe(file_path):\n",
    "    with open(file_path, 'r', encoding='utf-8') as file:\n",
    "        ris_data = file.readlines()\n",
    "\n",
    "    records = []\n",
    "    record = {}\n",
    "\n",
    "    for line in ris_data:\n",
    "        if line.startswith(\"ER\"):\n",
    "            records.append(record)\n",
    "            record = {}\n",
    "        elif line.startswith(\"TY\"):\n",
    "            record['Type'] = line[6:].strip()\n",
    "        elif line.startswith(\"AU\"):\n",
    "            if 'Authors' in record:\n",
    "                record['Authors'].append(line[6:].strip())\n",
    "            else:\n",
    "                record['Authors'] = [line[6:].strip()]\n",
    "        else:\n",
    "            key = line[:2]\n",
    "            value = line[6:].strip()\n",
    "            if key in record:\n",
    "                if isinstance(record[key], list):\n",
    "                    record[key].append(value)\n",
    "                else:\n",
    "                    record[key] = [record[key], value]\n",
    "            else:\n",
    "                record[key] = value\n",
    "\n",
    "    df = pd.DataFrame(records)\n",
    "    df['Authors'] = df['Authors'].apply(lambda x: '; '.join(x) if isinstance(x, list) else x)\n",
    "\n",
    "    return df\n",
    "\n",
    "def convert_ris_to_csv(ris_file_path, csv_file_path):\n",
    "    df = ris_to_dataframe(ris_file_path)\n",
    "    df.to_csv(csv_file_path, index=False)\n",
    "\n",
    "# Path to the RIS file and the destination path of the CSV file\n",
    "ris_file_path = 'file.ris'\n",
    "csv_file_path = 'file.csv'\n",
    "\n",
    "# Converting RIS to CSV\n",
    "convert_ris_to_csv(ris_file_path, csv_file_path)"
   ]
  },
  {
   "cell_type": "code",
   "execution_count": null,
   "id": "1d93cec9-3181-46cd-9742-bb77d3de39f6",
   "metadata": {},
   "outputs": [],
   "source": [
    "#Session 2: Merge CSV Files"
   ]
  },
  {
   "cell_type": "code",
   "execution_count": 2,
   "id": "3a1900a5-06ef-48fb-b6e3-05494c0d32b2",
   "metadata": {},
   "outputs": [],
   "source": [
    "import pandas as pd\n",
    "\n",
    "def merge_csv_files(file_path1, file_path2, output_path):\n",
    "    df1 = pd.read_csv(file_path1)\n",
    "    df2 = pd.read_csv(file_path2)\n",
    "    merged_df = pd.concat([df1, df2], ignore_index=True)\n",
    "    merged_df.to_csv(output_path, index=False)\n",
    "\n",
    "# Paths to the CSV files and the destination path for the merged file\n",
    "csv_file_path1 = 'file_wos.csv'\n",
    "csv_file_path2 = 'file_scopus.csv'\n",
    "merged_csv_file_path = 'merge.csv'\n",
    "\n",
    "# Merging the CSV files\n",
    "merge_csv_files(csv_file_path1, csv_file_path2, merged_csv_file_path)"
   ]
  },
  {
   "cell_type": "code",
   "execution_count": null,
   "id": "da22df5f-1ce9-4e1c-b5f3-b64f18fe79bb",
   "metadata": {},
   "outputs": [],
   "source": [
    "#Session 3: Classify Relevant and Irrelevant Articles"
   ]
  },
  {
   "cell_type": "code",
   "execution_count": null,
   "id": "7287a672-6274-410b-b62b-07941c34761a",
   "metadata": {},
   "outputs": [],
   "source": [
    "import pandas as pd\n",
    "\n",
    "# Load the existing CSV file\n",
    "file_path = 'merge.csv'  # Update the path as needed\n",
    "data = pd.read_csv(file_path)\n",
    "\n",
    "# Add a new column \"label\" and initialize with null values\n",
    "data['label'] = None\n",
    "\n",
    "# Manually classify ten articles as relevant (1) and ten as irrelevant (0)\n",
    "# Update the indices as necessary to select the desired articles\n",
    "# Assuming the indices of relevant and irrelevant articles are known\n",
    "\n",
    "relevant_indices = [0, 1, 2, 3, 4, 5, 6, 7, 8, 9]  # Update with correct indices\n",
    "irrelevant_indices = [10, 11, 12, 13, 14, 15, 16, 17, 18, 19]  # Update with correct indices\n",
    "\n",
    "data.loc[relevant_indices, 'label'] = 1\n",
    "data.loc[irrelevant_indices, 'label'] = 0\n",
    "\n",
    "# Save the updated CSV file\n",
    "data.to_csv('articles.csv', index=False)"
   ]
  }
 ],
 "metadata": {
  "kernelspec": {
   "display_name": "Python 3 (ipykernel)",
   "language": "python",
   "name": "python3"
  },
  "language_info": {
   "codemirror_mode": {
    "name": "ipython",
    "version": 3
   },
   "file_extension": ".py",
   "mimetype": "text/x-python",
   "name": "python",
   "nbconvert_exporter": "python",
   "pygments_lexer": "ipython3",
   "version": "3.12.2"
  }
 },
 "nbformat": 4,
 "nbformat_minor": 5
}
